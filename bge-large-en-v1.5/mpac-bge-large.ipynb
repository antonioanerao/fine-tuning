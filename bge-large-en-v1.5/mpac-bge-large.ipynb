{
 "cells": [
  {
   "cell_type": "code",
   "execution_count": 1,
   "id": "66e46e09-e543-49d8-9ded-a2bbc82d883a",
   "metadata": {
    "execution": {
     "iopub.execute_input": "2024-12-02T14:23:51.802766Z",
     "iopub.status.busy": "2024-12-02T14:23:51.802683Z",
     "iopub.status.idle": "2024-12-02T14:23:52.415054Z",
     "shell.execute_reply": "2024-12-02T14:23:52.414512Z",
     "shell.execute_reply.started": "2024-12-02T14:23:51.802757Z"
    }
   },
   "outputs": [],
   "source": [
    "%%capture\n",
    "%pip install load_dotenv sentence-transformers>=3 transformers==4.41.2"
   ]
  },
  {
   "cell_type": "code",
   "execution_count": 2,
   "id": "9ed86501-8fdf-4a5e-86aa-4c0e715a3569",
   "metadata": {
    "execution": {
     "iopub.execute_input": "2024-12-02T14:23:52.415902Z",
     "iopub.status.busy": "2024-12-02T14:23:52.415789Z",
     "iopub.status.idle": "2024-12-02T14:23:58.884646Z",
     "shell.execute_reply": "2024-12-02T14:23:58.884226Z",
     "shell.execute_reply.started": "2024-12-02T14:23:52.415890Z"
    }
   },
   "outputs": [],
   "source": [
    "import torch\n",
    "from huggingface_hub import login\n",
    "from datasets import load_dataset, concatenate_datasets\n",
    "import os\n",
    "from dotenv import load_dotenv\n",
    "from sentence_transformers import SentenceTransformer\n",
    "from sentence_transformers.evaluation import (\n",
    "    InformationRetrievalEvaluator,\n",
    "    SequentialEvaluator,\n",
    ")\n",
    "from sentence_transformers.util import cos_sim\n",
    "from sentence_transformers import SentenceTransformerModelCardData, SentenceTransformer, SentenceTransformerTrainingArguments, SentenceTransformerTrainer\n",
    "from sentence_transformers.losses import MatryoshkaLoss, MultipleNegativesRankingLoss\n",
    "from sentence_transformers.training_args import BatchSamplers"
   ]
  },
  {
   "cell_type": "raw",
   "id": "4d15cb0c-1d4b-40ab-a820-c926783f2f51",
   "metadata": {
    "execution": {
     "iopub.execute_input": "2024-11-28T19:14:38.570081Z",
     "iopub.status.busy": "2024-11-28T19:14:38.569937Z",
     "iopub.status.idle": "2024-11-28T19:14:38.573143Z",
     "shell.execute_reply": "2024-11-28T19:14:38.572965Z",
     "shell.execute_reply.started": "2024-11-28T19:14:38.570072Z"
    }
   },
   "source": [
    "load_dotenv('./.env')"
   ]
  },
  {
   "cell_type": "code",
   "execution_count": 3,
   "id": "b5fb6c3b-88be-4f2e-9bdb-72982fa05a66",
   "metadata": {
    "execution": {
     "iopub.execute_input": "2024-12-02T14:23:58.885135Z",
     "iopub.status.busy": "2024-12-02T14:23:58.884980Z",
     "iopub.status.idle": "2024-12-02T14:23:59.300474Z",
     "shell.execute_reply": "2024-12-02T14:23:59.299968Z",
     "shell.execute_reply.started": "2024-12-02T14:23:58.885125Z"
    }
   },
   "outputs": [],
   "source": [
    "load_dotenv('./.env')\n",
    "login(os.getenv(\"hf\"))"
   ]
  },
  {
   "cell_type": "code",
   "execution_count": 4,
   "id": "8337ea8b-be78-4271-bc4b-51fd71b92b7d",
   "metadata": {
    "execution": {
     "iopub.execute_input": "2024-12-02T14:23:59.300961Z",
     "iopub.status.busy": "2024-12-02T14:23:59.300868Z",
     "iopub.status.idle": "2024-12-02T14:24:02.489673Z",
     "shell.execute_reply": "2024-12-02T14:24:02.489269Z",
     "shell.execute_reply.started": "2024-12-02T14:23:59.300952Z"
    }
   },
   "outputs": [],
   "source": [
    "dataset = load_dataset(\"mp-ac/mpac-dataset\", split=\"train\")\n",
    "\n",
    "dataset = dataset.rename_column(\"instruction\", \"anchor\")\n",
    "dataset = dataset.rename_column(\"output\", \"positive\")\n",
    "dataset = dataset.add_column(\"id\", range(len(dataset)))\n",
    "\n",
    "dataset = dataset.train_test_split(test_size=0.2)"
   ]
  },
  {
   "cell_type": "code",
   "execution_count": 5,
   "id": "449c8fa1-8a66-45b7-8a43-d67beef44464",
   "metadata": {
    "execution": {
     "iopub.execute_input": "2024-12-02T14:24:02.490091Z",
     "iopub.status.busy": "2024-12-02T14:24:02.489987Z",
     "iopub.status.idle": "2024-12-02T14:24:02.501771Z",
     "shell.execute_reply": "2024-12-02T14:24:02.501534Z",
     "shell.execute_reply.started": "2024-12-02T14:24:02.490080Z"
    }
   },
   "outputs": [
    {
     "data": {
      "application/vnd.jupyter.widget-view+json": {
       "model_id": "1588681c55c941f79bf287a2771dd14e",
       "version_major": 2,
       "version_minor": 0
      },
      "text/plain": [
       "Creating json from Arrow format:   0%|          | 0/1 [00:00<?, ?ba/s]"
      ]
     },
     "metadata": {},
     "output_type": "display_data"
    },
    {
     "data": {
      "application/vnd.jupyter.widget-view+json": {
       "model_id": "4d0f9e4ae81343e7be3d99657b803111",
       "version_major": 2,
       "version_minor": 0
      },
      "text/plain": [
       "Creating json from Arrow format:   0%|          | 0/1 [00:00<?, ?ba/s]"
      ]
     },
     "metadata": {},
     "output_type": "display_data"
    },
    {
     "data": {
      "text/plain": [
       "2281"
      ]
     },
     "execution_count": 5,
     "metadata": {},
     "output_type": "execute_result"
    }
   ],
   "source": [
    "dataset[\"train\"].to_json(\"datasets/mpac/train_dataset.json\", orient=\"records\")\n",
    "dataset[\"test\"].to_json(\"datasets/mpac/test_dataset.json\", orient=\"records\")"
   ]
  },
  {
   "cell_type": "code",
   "execution_count": 6,
   "id": "bdba9242-36d7-40f5-b05b-be6fa529fcd1",
   "metadata": {
    "execution": {
     "iopub.execute_input": "2024-12-02T14:24:02.502163Z",
     "iopub.status.busy": "2024-12-02T14:24:02.502031Z",
     "iopub.status.idle": "2024-12-02T14:24:27.489815Z",
     "shell.execute_reply": "2024-12-02T14:24:27.489416Z",
     "shell.execute_reply.started": "2024-12-02T14:24:02.502151Z"
    }
   },
   "outputs": [
    {
     "name": "stderr",
     "output_type": "stream",
     "text": [
      "/opt/conda/lib/python3.12/site-packages/huggingface_hub/file_download.py:797: FutureWarning: `resume_download` is deprecated and will be removed in version 1.0.0. Downloads always resume when possible. If you want to force a new download, use `force_download=True`.\n",
      "  warnings.warn(\n"
     ]
    }
   ],
   "source": [
    "model_id = \"BAAI/bge-large-en-v1.5\"\n",
    "matryoshka_dimensions = [768, 512, 256, 128, 64]\n",
    "\n",
    "model = SentenceTransformer(\n",
    "    model_id, \n",
    "    device=\"cuda\" if torch.cuda.is_available() else \"cpu\"\n",
    ")"
   ]
  },
  {
   "cell_type": "code",
   "execution_count": 7,
   "id": "d231951b-4f91-4b61-8e22-499ef09145c9",
   "metadata": {
    "execution": {
     "iopub.execute_input": "2024-12-02T14:24:27.490247Z",
     "iopub.status.busy": "2024-12-02T14:24:27.490138Z",
     "iopub.status.idle": "2024-12-02T14:24:27.599095Z",
     "shell.execute_reply": "2024-12-02T14:24:27.598840Z",
     "shell.execute_reply.started": "2024-12-02T14:24:27.490238Z"
    }
   },
   "outputs": [
    {
     "data": {
      "application/vnd.jupyter.widget-view+json": {
       "model_id": "5d626e1d43964462be96ef60de2f8592",
       "version_major": 2,
       "version_minor": 0
      },
      "text/plain": [
       "Generating train split: 0 examples [00:00, ? examples/s]"
      ]
     },
     "metadata": {},
     "output_type": "display_data"
    },
    {
     "data": {
      "application/vnd.jupyter.widget-view+json": {
       "model_id": "08138d0595ab41d1bbb6f1d1e8483a44",
       "version_major": 2,
       "version_minor": 0
      },
      "text/plain": [
       "Generating train split: 0 examples [00:00, ? examples/s]"
      ]
     },
     "metadata": {},
     "output_type": "display_data"
    }
   ],
   "source": [
    "test_dataset = load_dataset(\"json\", data_files=\"datasets/mpac/test_dataset.json\", split=\"train\")\n",
    "train_dataset = load_dataset(\"json\", data_files=\"datasets/mpac/train_dataset.json\", split=\"train\")\n",
    "corpus_dataset = concatenate_datasets([train_dataset, test_dataset])"
   ]
  },
  {
   "cell_type": "code",
   "execution_count": 8,
   "id": "9c74176d-0f98-4d42-8590-2e63c9a56b7f",
   "metadata": {
    "execution": {
     "iopub.execute_input": "2024-12-02T14:24:27.599432Z",
     "iopub.status.busy": "2024-12-02T14:24:27.599344Z",
     "iopub.status.idle": "2024-12-02T14:24:27.601348Z",
     "shell.execute_reply": "2024-12-02T14:24:27.601129Z",
     "shell.execute_reply.started": "2024-12-02T14:24:27.599424Z"
    }
   },
   "outputs": [],
   "source": [
    "# Converter dataset para dicionarios\n",
    "corpus = dict(\n",
    "    zip(corpus_dataset[\"id\"], corpus_dataset[\"positive\"])\n",
    ")\n",
    "queries = dict(\n",
    "    zip(test_dataset[\"id\"], test_dataset[\"anchor\"])\n",
    ")"
   ]
  },
  {
   "cell_type": "code",
   "execution_count": 9,
   "id": "06106706-2997-45c2-a77a-332210028de7",
   "metadata": {
    "execution": {
     "iopub.execute_input": "2024-12-02T14:24:27.601734Z",
     "iopub.status.busy": "2024-12-02T14:24:27.601579Z",
     "iopub.status.idle": "2024-12-02T14:24:27.672988Z",
     "shell.execute_reply": "2024-12-02T14:24:27.672730Z",
     "shell.execute_reply.started": "2024-12-02T14:24:27.601723Z"
    }
   },
   "outputs": [],
   "source": [
    "relevant_docs = {}\n",
    "for q_id in queries:\n",
    "    relevant_docs[q_id] = [q_id]"
   ]
  },
  {
   "cell_type": "code",
   "execution_count": 10,
   "id": "999cec68-ea80-462e-aa97-b7b749d9b528",
   "metadata": {
    "execution": {
     "iopub.execute_input": "2024-12-02T14:24:27.674016Z",
     "iopub.status.busy": "2024-12-02T14:24:27.673869Z",
     "iopub.status.idle": "2024-12-02T14:24:27.740265Z",
     "shell.execute_reply": "2024-12-02T14:24:27.739986Z",
     "shell.execute_reply.started": "2024-12-02T14:24:27.674006Z"
    }
   },
   "outputs": [],
   "source": [
    "matryoshka_evaluators = []\n",
    "# Iteracao entre as diferentes dimencoes\n",
    "for dim in matryoshka_dimensions:\n",
    "    ir_evaluator = InformationRetrievalEvaluator(\n",
    "        queries=queries,\n",
    "        corpus=corpus,\n",
    "        relevant_docs=relevant_docs,\n",
    "        name=f\"dim_{dim}\",\n",
    "        truncate_dim=dim,  # Truncate (reduzir) embeddings em determinada dimencao (dim)\n",
    "        score_functions={\"cosine\": cos_sim},\n",
    "    )\n",
    "    matryoshka_evaluators.append(ir_evaluator)\n",
    " \n",
    "evaluator = SequentialEvaluator(matryoshka_evaluators)"
   ]
  },
  {
   "cell_type": "code",
   "execution_count": 11,
   "id": "3c48dd60-7cdc-47e0-b754-af05c7b26e5d",
   "metadata": {
    "execution": {
     "iopub.execute_input": "2024-12-02T14:24:27.740616Z",
     "iopub.status.busy": "2024-12-02T14:24:27.740527Z",
     "iopub.status.idle": "2024-12-02T14:24:29.532394Z",
     "shell.execute_reply": "2024-12-02T14:24:29.531921Z",
     "shell.execute_reply.started": "2024-12-02T14:24:27.740608Z"
    }
   },
   "outputs": [
    {
     "name": "stdout",
     "output_type": "stream",
     "text": [
      "dim_768_cosine_ndcg@10: 0.7367699726190509\n",
      "dim_512_cosine_ndcg@10: 0.7367699726190509\n",
      "dim_256_cosine_ndcg@10: 0.7222222222222222\n",
      "dim_128_cosine_ndcg@10: 0.6686425067562222\n",
      "dim_64_cosine_ndcg@10: 0.7222222222222222\n"
     ]
    }
   ],
   "source": [
    "results = evaluator(model)\n",
    "# print(results)\n",
    " \n",
    "# Exibir o score principal\n",
    "for dim in matryoshka_dimensions:\n",
    "    key = f\"dim_{dim}_cosine_ndcg@10\"\n",
    "    print\n",
    "    print(f\"{key}: {results[key]}\")"
   ]
  },
  {
   "cell_type": "markdown",
   "id": "272d6ddb-2a05-49c0-8038-b0fe7982c014",
   "metadata": {},
   "source": [
    "### Flash Attention\n",
    "\n",
    "Flash Attention é uma implementação de **atenção eficiente** que reduz significativamente o uso de memória e melhora a velocidade de cálculo. Ele é projetado para lidar com grandes entradas (tokens) e funciona diretamente na GPU, otimizando as operações de leitura e escrita na memória.\n",
    "\n",
    "### SDPA\n",
    "\n",
    "**SDPA**, ou **Scaled Dot Product Attention**, é uma base do mecanismo de atenção nos Transformers. Flash Attention 2 otimiza o cálculo do produto escalar e a normalização exponencial (softmax), essenciais para o SDPA."
   ]
  },
  {
   "cell_type": "code",
   "execution_count": 12,
   "id": "d921f4bd-0d93-4e2d-abed-fe7ca0ceeccd",
   "metadata": {
    "execution": {
     "iopub.execute_input": "2024-12-02T14:24:29.532781Z",
     "iopub.status.busy": "2024-12-02T14:24:29.532680Z",
     "iopub.status.idle": "2024-12-02T14:24:33.239597Z",
     "shell.execute_reply": "2024-12-02T14:24:33.239177Z",
     "shell.execute_reply.started": "2024-12-02T14:24:29.532772Z"
    }
   },
   "outputs": [],
   "source": [
    "model_id = \"BAAI/bge-large-en-v1.5\"\n",
    " \n",
    "# Carrega o modelo com SDPA para usar Flash Attention 2\n",
    "model = SentenceTransformer(\n",
    "    model_id,\n",
    "    model_kwargs={\"attn_implementation\": \"sdpa\"},\n",
    "    model_card_data=SentenceTransformerModelCardData(\n",
    "        language=\"en\",\n",
    "        license=\"apache-2.0\",\n",
    "        model_name=\"MPAC BGE Large\",\n",
    "    ),\n",
    ")"
   ]
  },
  {
   "cell_type": "code",
   "execution_count": 13,
   "id": "78869414-4bf5-4a53-bf19-e764f327e8a9",
   "metadata": {
    "execution": {
     "iopub.execute_input": "2024-12-02T14:24:33.240236Z",
     "iopub.status.busy": "2024-12-02T14:24:33.240067Z",
     "iopub.status.idle": "2024-12-02T14:24:33.242203Z",
     "shell.execute_reply": "2024-12-02T14:24:33.241982Z",
     "shell.execute_reply.started": "2024-12-02T14:24:33.240221Z"
    }
   },
   "outputs": [],
   "source": [
    "matryoshka_dimensions = [768, 512, 256, 128, 64]\n",
    "inner_train_loss = MultipleNegativesRankingLoss(model)\n",
    "train_loss = MatryoshkaLoss(\n",
    "    model, inner_train_loss, matryoshka_dims=matryoshka_dimensions\n",
    ")"
   ]
  },
  {
   "cell_type": "code",
   "execution_count": 14,
   "id": "650896a9-8ea2-46b7-b82d-1fe9e6b619bd",
   "metadata": {
    "execution": {
     "iopub.execute_input": "2024-12-02T14:24:33.242513Z",
     "iopub.status.busy": "2024-12-02T14:24:33.242430Z",
     "iopub.status.idle": "2024-12-02T14:24:33.383870Z",
     "shell.execute_reply": "2024-12-02T14:24:33.383573Z",
     "shell.execute_reply.started": "2024-12-02T14:24:33.242505Z"
    }
   },
   "outputs": [],
   "source": [
    "train_dataset = load_dataset(\"json\", data_files=\"datasets/mpac/train_dataset.json\", split=\"train\")"
   ]
  },
  {
   "cell_type": "code",
   "execution_count": 15,
   "id": "4729df1f-2392-4fb4-b97a-f3a03ad36f88",
   "metadata": {
    "execution": {
     "iopub.execute_input": "2024-12-02T14:24:33.384237Z",
     "iopub.status.busy": "2024-12-02T14:24:33.384142Z",
     "iopub.status.idle": "2024-12-02T14:24:33.401103Z",
     "shell.execute_reply": "2024-12-02T14:24:33.400858Z",
     "shell.execute_reply.started": "2024-12-02T14:24:33.384229Z"
    }
   },
   "outputs": [],
   "source": [
    "args = SentenceTransformerTrainingArguments(\n",
    "    output_dir=\"mpac-base_v1.2\",\n",
    "    num_train_epochs=5,\n",
    "    per_device_train_batch_size=32,             # tamanho do batch para treinamento\n",
    "    gradient_accumulation_steps=16,             # global batch size de 512. Acumula para um batch de 512 mesmo em GPUs que nao suportam carregar um batch de 512\n",
    "    per_device_eval_batch_size=16,              # tamanho do batch para evaluation\n",
    "    warmup_ratio=0.1,\n",
    "    learning_rate=2e-5,\n",
    "    lr_scheduler_type=\"cosine\",\n",
    "    optim=\"adamw_torch_fused\",\n",
    "    tf32=True,\n",
    "    bf16=True,\n",
    "    batch_sampler=BatchSamplers.NO_DUPLICATES,  # Nao usar exemplos duplicados no batch\n",
    "    eval_strategy=\"epoch\",\n",
    "    save_strategy=\"epoch\",\n",
    "    logging_steps=10,\n",
    "    save_total_limit=3,\n",
    "    load_best_model_at_end=True,\n",
    "    metric_for_best_model=\"eval_dim_128_cosine_ndcg@10\",\n",
    ")"
   ]
  },
  {
   "cell_type": "code",
   "execution_count": 16,
   "id": "086e093f-b25b-4d9e-9aa8-767e486a1936",
   "metadata": {
    "execution": {
     "iopub.execute_input": "2024-12-02T14:24:33.401464Z",
     "iopub.status.busy": "2024-12-02T14:24:33.401363Z",
     "iopub.status.idle": "2024-12-02T14:24:33.582841Z",
     "shell.execute_reply": "2024-12-02T14:24:33.582523Z",
     "shell.execute_reply.started": "2024-12-02T14:24:33.401455Z"
    }
   },
   "outputs": [],
   "source": [
    "trainer = SentenceTransformerTrainer(\n",
    "    model=model, # bge-large-en-v1.5\n",
    "    args=args,\n",
    "    train_dataset=train_dataset.select_columns(\n",
    "        [\"anchor\", \"positive\"]\n",
    "    ),\n",
    "    loss=train_loss,\n",
    "    evaluator=evaluator,\n",
    ")"
   ]
  },
  {
   "cell_type": "code",
   "execution_count": 17,
   "id": "eaeb3893-4977-4807-8575-c6a376205334",
   "metadata": {
    "execution": {
     "iopub.execute_input": "2024-12-02T14:24:33.583201Z",
     "iopub.status.busy": "2024-12-02T14:24:33.583117Z",
     "iopub.status.idle": "2024-12-02T14:27:34.563813Z",
     "shell.execute_reply": "2024-12-02T14:27:34.563297Z",
     "shell.execute_reply.started": "2024-12-02T14:24:33.583193Z"
    }
   },
   "outputs": [
    {
     "data": {
      "text/html": [
       "\n",
       "    <div>\n",
       "      \n",
       "      <progress value='5' max='5' style='width:300px; height:20px; vertical-align: middle;'></progress>\n",
       "      [5/5 03:00, Epoch 5/5]\n",
       "    </div>\n",
       "    <table border=\"1\" class=\"dataframe\">\n",
       "  <thead>\n",
       " <tr style=\"text-align: left;\">\n",
       "      <th>Epoch</th>\n",
       "      <th>Training Loss</th>\n",
       "      <th>Validation Loss</th>\n",
       "      <th>Dim 768 Cosine Accuracy@1</th>\n",
       "      <th>Dim 768 Cosine Accuracy@3</th>\n",
       "      <th>Dim 768 Cosine Accuracy@5</th>\n",
       "      <th>Dim 768 Cosine Accuracy@10</th>\n",
       "      <th>Dim 768 Cosine Precision@1</th>\n",
       "      <th>Dim 768 Cosine Precision@3</th>\n",
       "      <th>Dim 768 Cosine Precision@5</th>\n",
       "      <th>Dim 768 Cosine Precision@10</th>\n",
       "      <th>Dim 768 Cosine Recall@1</th>\n",
       "      <th>Dim 768 Cosine Recall@3</th>\n",
       "      <th>Dim 768 Cosine Recall@5</th>\n",
       "      <th>Dim 768 Cosine Recall@10</th>\n",
       "      <th>Dim 768 Cosine Ndcg@10</th>\n",
       "      <th>Dim 768 Cosine Mrr@10</th>\n",
       "      <th>Dim 768 Cosine Map@100</th>\n",
       "      <th>Dim 512 Cosine Accuracy@1</th>\n",
       "      <th>Dim 512 Cosine Accuracy@3</th>\n",
       "      <th>Dim 512 Cosine Accuracy@5</th>\n",
       "      <th>Dim 512 Cosine Accuracy@10</th>\n",
       "      <th>Dim 512 Cosine Precision@1</th>\n",
       "      <th>Dim 512 Cosine Precision@3</th>\n",
       "      <th>Dim 512 Cosine Precision@5</th>\n",
       "      <th>Dim 512 Cosine Precision@10</th>\n",
       "      <th>Dim 512 Cosine Recall@1</th>\n",
       "      <th>Dim 512 Cosine Recall@3</th>\n",
       "      <th>Dim 512 Cosine Recall@5</th>\n",
       "      <th>Dim 512 Cosine Recall@10</th>\n",
       "      <th>Dim 512 Cosine Ndcg@10</th>\n",
       "      <th>Dim 512 Cosine Mrr@10</th>\n",
       "      <th>Dim 512 Cosine Map@100</th>\n",
       "      <th>Dim 256 Cosine Accuracy@1</th>\n",
       "      <th>Dim 256 Cosine Accuracy@3</th>\n",
       "      <th>Dim 256 Cosine Accuracy@5</th>\n",
       "      <th>Dim 256 Cosine Accuracy@10</th>\n",
       "      <th>Dim 256 Cosine Precision@1</th>\n",
       "      <th>Dim 256 Cosine Precision@3</th>\n",
       "      <th>Dim 256 Cosine Precision@5</th>\n",
       "      <th>Dim 256 Cosine Precision@10</th>\n",
       "      <th>Dim 256 Cosine Recall@1</th>\n",
       "      <th>Dim 256 Cosine Recall@3</th>\n",
       "      <th>Dim 256 Cosine Recall@5</th>\n",
       "      <th>Dim 256 Cosine Recall@10</th>\n",
       "      <th>Dim 256 Cosine Ndcg@10</th>\n",
       "      <th>Dim 256 Cosine Mrr@10</th>\n",
       "      <th>Dim 256 Cosine Map@100</th>\n",
       "      <th>Dim 128 Cosine Accuracy@1</th>\n",
       "      <th>Dim 128 Cosine Accuracy@3</th>\n",
       "      <th>Dim 128 Cosine Accuracy@5</th>\n",
       "      <th>Dim 128 Cosine Accuracy@10</th>\n",
       "      <th>Dim 128 Cosine Precision@1</th>\n",
       "      <th>Dim 128 Cosine Precision@3</th>\n",
       "      <th>Dim 128 Cosine Precision@5</th>\n",
       "      <th>Dim 128 Cosine Precision@10</th>\n",
       "      <th>Dim 128 Cosine Recall@1</th>\n",
       "      <th>Dim 128 Cosine Recall@3</th>\n",
       "      <th>Dim 128 Cosine Recall@5</th>\n",
       "      <th>Dim 128 Cosine Recall@10</th>\n",
       "      <th>Dim 128 Cosine Ndcg@10</th>\n",
       "      <th>Dim 128 Cosine Mrr@10</th>\n",
       "      <th>Dim 128 Cosine Map@100</th>\n",
       "      <th>Dim 64 Cosine Accuracy@1</th>\n",
       "      <th>Dim 64 Cosine Accuracy@3</th>\n",
       "      <th>Dim 64 Cosine Accuracy@5</th>\n",
       "      <th>Dim 64 Cosine Accuracy@10</th>\n",
       "      <th>Dim 64 Cosine Precision@1</th>\n",
       "      <th>Dim 64 Cosine Precision@3</th>\n",
       "      <th>Dim 64 Cosine Precision@5</th>\n",
       "      <th>Dim 64 Cosine Precision@10</th>\n",
       "      <th>Dim 64 Cosine Recall@1</th>\n",
       "      <th>Dim 64 Cosine Recall@3</th>\n",
       "      <th>Dim 64 Cosine Recall@5</th>\n",
       "      <th>Dim 64 Cosine Recall@10</th>\n",
       "      <th>Dim 64 Cosine Ndcg@10</th>\n",
       "      <th>Dim 64 Cosine Mrr@10</th>\n",
       "      <th>Dim 64 Cosine Map@100</th>\n",
       "      <th>Sequential Score</th>\n",
       "    </tr>\n",
       "  </thead>\n",
       "  <tbody>\n",
       "    <tr>\n",
       "      <td>1</td>\n",
       "      <td>No log</td>\n",
       "      <td>No log</td>\n",
       "      <td>0.666667</td>\n",
       "      <td>0.777778</td>\n",
       "      <td>0.777778</td>\n",
       "      <td>0.777778</td>\n",
       "      <td>0.666667</td>\n",
       "      <td>0.259259</td>\n",
       "      <td>0.155556</td>\n",
       "      <td>0.077778</td>\n",
       "      <td>0.666667</td>\n",
       "      <td>0.777778</td>\n",
       "      <td>0.777778</td>\n",
       "      <td>0.777778</td>\n",
       "      <td>0.736770</td>\n",
       "      <td>0.722222</td>\n",
       "      <td>0.731628</td>\n",
       "      <td>0.666667</td>\n",
       "      <td>0.777778</td>\n",
       "      <td>0.777778</td>\n",
       "      <td>0.777778</td>\n",
       "      <td>0.666667</td>\n",
       "      <td>0.259259</td>\n",
       "      <td>0.155556</td>\n",
       "      <td>0.077778</td>\n",
       "      <td>0.666667</td>\n",
       "      <td>0.777778</td>\n",
       "      <td>0.777778</td>\n",
       "      <td>0.777778</td>\n",
       "      <td>0.736770</td>\n",
       "      <td>0.722222</td>\n",
       "      <td>0.733032</td>\n",
       "      <td>0.666667</td>\n",
       "      <td>0.777778</td>\n",
       "      <td>0.777778</td>\n",
       "      <td>0.777778</td>\n",
       "      <td>0.666667</td>\n",
       "      <td>0.259259</td>\n",
       "      <td>0.155556</td>\n",
       "      <td>0.077778</td>\n",
       "      <td>0.666667</td>\n",
       "      <td>0.777778</td>\n",
       "      <td>0.777778</td>\n",
       "      <td>0.777778</td>\n",
       "      <td>0.722222</td>\n",
       "      <td>0.703704</td>\n",
       "      <td>0.712869</td>\n",
       "      <td>0.555556</td>\n",
       "      <td>0.666667</td>\n",
       "      <td>0.777778</td>\n",
       "      <td>0.777778</td>\n",
       "      <td>0.555556</td>\n",
       "      <td>0.222222</td>\n",
       "      <td>0.155556</td>\n",
       "      <td>0.077778</td>\n",
       "      <td>0.555556</td>\n",
       "      <td>0.666667</td>\n",
       "      <td>0.777778</td>\n",
       "      <td>0.777778</td>\n",
       "      <td>0.668643</td>\n",
       "      <td>0.633333</td>\n",
       "      <td>0.640868</td>\n",
       "      <td>0.666667</td>\n",
       "      <td>0.777778</td>\n",
       "      <td>0.777778</td>\n",
       "      <td>0.777778</td>\n",
       "      <td>0.666667</td>\n",
       "      <td>0.259259</td>\n",
       "      <td>0.155556</td>\n",
       "      <td>0.077778</td>\n",
       "      <td>0.666667</td>\n",
       "      <td>0.777778</td>\n",
       "      <td>0.777778</td>\n",
       "      <td>0.777778</td>\n",
       "      <td>0.722222</td>\n",
       "      <td>0.703704</td>\n",
       "      <td>0.710074</td>\n",
       "      <td>0.722222</td>\n",
       "    </tr>\n",
       "    <tr>\n",
       "      <td>2</td>\n",
       "      <td>No log</td>\n",
       "      <td>No log</td>\n",
       "      <td>0.777778</td>\n",
       "      <td>0.777778</td>\n",
       "      <td>0.777778</td>\n",
       "      <td>0.888889</td>\n",
       "      <td>0.777778</td>\n",
       "      <td>0.259259</td>\n",
       "      <td>0.155556</td>\n",
       "      <td>0.088889</td>\n",
       "      <td>0.777778</td>\n",
       "      <td>0.777778</td>\n",
       "      <td>0.777778</td>\n",
       "      <td>0.888889</td>\n",
       "      <td>0.812829</td>\n",
       "      <td>0.791667</td>\n",
       "      <td>0.800926</td>\n",
       "      <td>0.666667</td>\n",
       "      <td>0.777778</td>\n",
       "      <td>0.777778</td>\n",
       "      <td>0.888889</td>\n",
       "      <td>0.666667</td>\n",
       "      <td>0.259259</td>\n",
       "      <td>0.155556</td>\n",
       "      <td>0.088889</td>\n",
       "      <td>0.666667</td>\n",
       "      <td>0.777778</td>\n",
       "      <td>0.777778</td>\n",
       "      <td>0.888889</td>\n",
       "      <td>0.773807</td>\n",
       "      <td>0.738095</td>\n",
       "      <td>0.747354</td>\n",
       "      <td>0.555556</td>\n",
       "      <td>0.777778</td>\n",
       "      <td>0.777778</td>\n",
       "      <td>0.888889</td>\n",
       "      <td>0.555556</td>\n",
       "      <td>0.259259</td>\n",
       "      <td>0.155556</td>\n",
       "      <td>0.088889</td>\n",
       "      <td>0.555556</td>\n",
       "      <td>0.777778</td>\n",
       "      <td>0.777778</td>\n",
       "      <td>0.888889</td>\n",
       "      <td>0.729210</td>\n",
       "      <td>0.679012</td>\n",
       "      <td>0.688272</td>\n",
       "      <td>0.666667</td>\n",
       "      <td>0.777778</td>\n",
       "      <td>0.777778</td>\n",
       "      <td>0.888889</td>\n",
       "      <td>0.666667</td>\n",
       "      <td>0.259259</td>\n",
       "      <td>0.155556</td>\n",
       "      <td>0.088889</td>\n",
       "      <td>0.666667</td>\n",
       "      <td>0.777778</td>\n",
       "      <td>0.777778</td>\n",
       "      <td>0.888889</td>\n",
       "      <td>0.773807</td>\n",
       "      <td>0.738095</td>\n",
       "      <td>0.746032</td>\n",
       "      <td>0.666667</td>\n",
       "      <td>0.777778</td>\n",
       "      <td>0.777778</td>\n",
       "      <td>0.888889</td>\n",
       "      <td>0.666667</td>\n",
       "      <td>0.259259</td>\n",
       "      <td>0.155556</td>\n",
       "      <td>0.088889</td>\n",
       "      <td>0.666667</td>\n",
       "      <td>0.777778</td>\n",
       "      <td>0.777778</td>\n",
       "      <td>0.888889</td>\n",
       "      <td>0.770218</td>\n",
       "      <td>0.734568</td>\n",
       "      <td>0.741104</td>\n",
       "      <td>0.770218</td>\n",
       "    </tr>\n",
       "    <tr>\n",
       "      <td>3</td>\n",
       "      <td>No log</td>\n",
       "      <td>No log</td>\n",
       "      <td>0.777778</td>\n",
       "      <td>0.777778</td>\n",
       "      <td>0.888889</td>\n",
       "      <td>0.888889</td>\n",
       "      <td>0.777778</td>\n",
       "      <td>0.259259</td>\n",
       "      <td>0.177778</td>\n",
       "      <td>0.088889</td>\n",
       "      <td>0.777778</td>\n",
       "      <td>0.777778</td>\n",
       "      <td>0.888889</td>\n",
       "      <td>0.888889</td>\n",
       "      <td>0.825631</td>\n",
       "      <td>0.805556</td>\n",
       "      <td>0.814815</td>\n",
       "      <td>0.666667</td>\n",
       "      <td>0.888889</td>\n",
       "      <td>0.888889</td>\n",
       "      <td>1.000000</td>\n",
       "      <td>0.666667</td>\n",
       "      <td>0.296296</td>\n",
       "      <td>0.177778</td>\n",
       "      <td>0.100000</td>\n",
       "      <td>0.666667</td>\n",
       "      <td>0.888889</td>\n",
       "      <td>0.888889</td>\n",
       "      <td>1.000000</td>\n",
       "      <td>0.825773</td>\n",
       "      <td>0.771605</td>\n",
       "      <td>0.771605</td>\n",
       "      <td>0.777778</td>\n",
       "      <td>0.777778</td>\n",
       "      <td>0.888889</td>\n",
       "      <td>1.000000</td>\n",
       "      <td>0.777778</td>\n",
       "      <td>0.259259</td>\n",
       "      <td>0.177778</td>\n",
       "      <td>0.100000</td>\n",
       "      <td>0.777778</td>\n",
       "      <td>0.777778</td>\n",
       "      <td>0.888889</td>\n",
       "      <td>1.000000</td>\n",
       "      <td>0.854209</td>\n",
       "      <td>0.812346</td>\n",
       "      <td>0.812346</td>\n",
       "      <td>0.777778</td>\n",
       "      <td>0.888889</td>\n",
       "      <td>0.888889</td>\n",
       "      <td>1.000000</td>\n",
       "      <td>0.777778</td>\n",
       "      <td>0.296296</td>\n",
       "      <td>0.177778</td>\n",
       "      <td>0.100000</td>\n",
       "      <td>0.777778</td>\n",
       "      <td>0.888889</td>\n",
       "      <td>0.888889</td>\n",
       "      <td>1.000000</td>\n",
       "      <td>0.879999</td>\n",
       "      <td>0.844444</td>\n",
       "      <td>0.844444</td>\n",
       "      <td>0.777778</td>\n",
       "      <td>0.777778</td>\n",
       "      <td>0.888889</td>\n",
       "      <td>1.000000</td>\n",
       "      <td>0.777778</td>\n",
       "      <td>0.259259</td>\n",
       "      <td>0.177778</td>\n",
       "      <td>0.100000</td>\n",
       "      <td>0.777778</td>\n",
       "      <td>0.777778</td>\n",
       "      <td>0.888889</td>\n",
       "      <td>1.000000</td>\n",
       "      <td>0.859079</td>\n",
       "      <td>0.817901</td>\n",
       "      <td>0.817901</td>\n",
       "      <td>0.859079</td>\n",
       "    </tr>\n",
       "    <tr>\n",
       "      <td>4</td>\n",
       "      <td>No log</td>\n",
       "      <td>No log</td>\n",
       "      <td>0.777778</td>\n",
       "      <td>0.888889</td>\n",
       "      <td>0.888889</td>\n",
       "      <td>0.888889</td>\n",
       "      <td>0.777778</td>\n",
       "      <td>0.296296</td>\n",
       "      <td>0.177778</td>\n",
       "      <td>0.088889</td>\n",
       "      <td>0.777778</td>\n",
       "      <td>0.888889</td>\n",
       "      <td>0.888889</td>\n",
       "      <td>0.888889</td>\n",
       "      <td>0.833333</td>\n",
       "      <td>0.814815</td>\n",
       "      <td>0.824074</td>\n",
       "      <td>0.666667</td>\n",
       "      <td>0.888889</td>\n",
       "      <td>0.888889</td>\n",
       "      <td>1.000000</td>\n",
       "      <td>0.666667</td>\n",
       "      <td>0.296296</td>\n",
       "      <td>0.177778</td>\n",
       "      <td>0.100000</td>\n",
       "      <td>0.666667</td>\n",
       "      <td>0.888889</td>\n",
       "      <td>0.888889</td>\n",
       "      <td>1.000000</td>\n",
       "      <td>0.825773</td>\n",
       "      <td>0.771605</td>\n",
       "      <td>0.771605</td>\n",
       "      <td>0.777778</td>\n",
       "      <td>0.888889</td>\n",
       "      <td>0.888889</td>\n",
       "      <td>1.000000</td>\n",
       "      <td>0.777778</td>\n",
       "      <td>0.296296</td>\n",
       "      <td>0.177778</td>\n",
       "      <td>0.100000</td>\n",
       "      <td>0.777778</td>\n",
       "      <td>0.888889</td>\n",
       "      <td>0.888889</td>\n",
       "      <td>1.000000</td>\n",
       "      <td>0.870370</td>\n",
       "      <td>0.830688</td>\n",
       "      <td>0.830688</td>\n",
       "      <td>0.777778</td>\n",
       "      <td>0.888889</td>\n",
       "      <td>0.888889</td>\n",
       "      <td>1.000000</td>\n",
       "      <td>0.777778</td>\n",
       "      <td>0.296296</td>\n",
       "      <td>0.177778</td>\n",
       "      <td>0.100000</td>\n",
       "      <td>0.777778</td>\n",
       "      <td>0.888889</td>\n",
       "      <td>0.888889</td>\n",
       "      <td>1.000000</td>\n",
       "      <td>0.881329</td>\n",
       "      <td>0.845679</td>\n",
       "      <td>0.845679</td>\n",
       "      <td>0.777778</td>\n",
       "      <td>0.888889</td>\n",
       "      <td>0.888889</td>\n",
       "      <td>1.000000</td>\n",
       "      <td>0.777778</td>\n",
       "      <td>0.296296</td>\n",
       "      <td>0.177778</td>\n",
       "      <td>0.100000</td>\n",
       "      <td>0.777778</td>\n",
       "      <td>0.888889</td>\n",
       "      <td>0.888889</td>\n",
       "      <td>1.000000</td>\n",
       "      <td>0.882933</td>\n",
       "      <td>0.847222</td>\n",
       "      <td>0.847222</td>\n",
       "      <td>0.882933</td>\n",
       "    </tr>\n",
       "    <tr>\n",
       "      <td>5</td>\n",
       "      <td>No log</td>\n",
       "      <td>No log</td>\n",
       "      <td>0.777778</td>\n",
       "      <td>0.888889</td>\n",
       "      <td>0.888889</td>\n",
       "      <td>0.888889</td>\n",
       "      <td>0.777778</td>\n",
       "      <td>0.296296</td>\n",
       "      <td>0.177778</td>\n",
       "      <td>0.088889</td>\n",
       "      <td>0.777778</td>\n",
       "      <td>0.888889</td>\n",
       "      <td>0.888889</td>\n",
       "      <td>0.888889</td>\n",
       "      <td>0.833333</td>\n",
       "      <td>0.814815</td>\n",
       "      <td>0.824916</td>\n",
       "      <td>0.777778</td>\n",
       "      <td>0.888889</td>\n",
       "      <td>0.888889</td>\n",
       "      <td>1.000000</td>\n",
       "      <td>0.777778</td>\n",
       "      <td>0.296296</td>\n",
       "      <td>0.177778</td>\n",
       "      <td>0.100000</td>\n",
       "      <td>0.777778</td>\n",
       "      <td>0.888889</td>\n",
       "      <td>0.888889</td>\n",
       "      <td>1.000000</td>\n",
       "      <td>0.881329</td>\n",
       "      <td>0.845679</td>\n",
       "      <td>0.845679</td>\n",
       "      <td>0.777778</td>\n",
       "      <td>0.888889</td>\n",
       "      <td>0.888889</td>\n",
       "      <td>1.000000</td>\n",
       "      <td>0.777778</td>\n",
       "      <td>0.296296</td>\n",
       "      <td>0.177778</td>\n",
       "      <td>0.100000</td>\n",
       "      <td>0.777778</td>\n",
       "      <td>0.888889</td>\n",
       "      <td>0.888889</td>\n",
       "      <td>1.000000</td>\n",
       "      <td>0.884918</td>\n",
       "      <td>0.849206</td>\n",
       "      <td>0.849206</td>\n",
       "      <td>0.777778</td>\n",
       "      <td>0.888889</td>\n",
       "      <td>0.888889</td>\n",
       "      <td>1.000000</td>\n",
       "      <td>0.777778</td>\n",
       "      <td>0.296296</td>\n",
       "      <td>0.177778</td>\n",
       "      <td>0.100000</td>\n",
       "      <td>0.777778</td>\n",
       "      <td>0.888889</td>\n",
       "      <td>0.888889</td>\n",
       "      <td>1.000000</td>\n",
       "      <td>0.881329</td>\n",
       "      <td>0.845679</td>\n",
       "      <td>0.845679</td>\n",
       "      <td>0.777778</td>\n",
       "      <td>0.888889</td>\n",
       "      <td>0.888889</td>\n",
       "      <td>1.000000</td>\n",
       "      <td>0.777778</td>\n",
       "      <td>0.296296</td>\n",
       "      <td>0.177778</td>\n",
       "      <td>0.100000</td>\n",
       "      <td>0.777778</td>\n",
       "      <td>0.888889</td>\n",
       "      <td>0.888889</td>\n",
       "      <td>1.000000</td>\n",
       "      <td>0.884918</td>\n",
       "      <td>0.849206</td>\n",
       "      <td>0.849206</td>\n",
       "      <td>0.884918</td>\n",
       "    </tr>\n",
       "  </tbody>\n",
       "</table><p>"
      ],
      "text/plain": [
       "<IPython.core.display.HTML object>"
      ]
     },
     "metadata": {},
     "output_type": "display_data"
    },
    {
     "data": {
      "application/vnd.jupyter.widget-view+json": {
       "model_id": "",
       "version_major": 2,
       "version_minor": 0
      },
      "text/plain": [
       "Computing widget examples:   0%|          | 0/1 [00:00<?, ?example/s]"
      ]
     },
     "metadata": {},
     "output_type": "display_data"
    },
    {
     "data": {
      "text/plain": [
       "TrainOutput(global_step=5, training_loss=0.7644370555877685, metrics={'train_runtime': 180.8303, 'train_samples_per_second': 0.94, 'train_steps_per_second': 0.028, 'total_flos': 0.0, 'train_loss': 0.7644370555877685, 'epoch': 5.0})"
      ]
     },
     "execution_count": 17,
     "metadata": {},
     "output_type": "execute_result"
    }
   ],
   "source": [
    "trainer.train()"
   ]
  },
  {
   "cell_type": "code",
   "execution_count": 18,
   "id": "38435aa3-bf42-459f-a580-452517db2108",
   "metadata": {
    "execution": {
     "iopub.execute_input": "2024-12-02T14:27:34.564505Z",
     "iopub.status.busy": "2024-12-02T14:27:34.564252Z",
     "iopub.status.idle": "2024-12-02T14:27:41.854554Z",
     "shell.execute_reply": "2024-12-02T14:27:41.853971Z",
     "shell.execute_reply.started": "2024-12-02T14:27:34.564490Z"
    }
   },
   "outputs": [],
   "source": [
    "# Salva o modelo com melhor performance\n",
    "trainer.save_model()"
   ]
  },
  {
   "cell_type": "markdown",
   "id": "bcf80ccb-0e6f-43c3-aa7d-7fd7bcb88446",
   "metadata": {},
   "source": [
    "## Evaluate fine-tuned model"
   ]
  },
  {
   "cell_type": "code",
   "execution_count": 19,
   "id": "39decbd3-3cbc-4bcd-94f9-8f4e658440e2",
   "metadata": {
    "execution": {
     "iopub.execute_input": "2024-12-02T14:27:41.855474Z",
     "iopub.status.busy": "2024-12-02T14:27:41.855358Z",
     "iopub.status.idle": "2024-12-02T14:27:49.276678Z",
     "shell.execute_reply": "2024-12-02T14:27:49.276167Z",
     "shell.execute_reply.started": "2024-12-02T14:27:41.855465Z"
    }
   },
   "outputs": [
    {
     "name": "stdout",
     "output_type": "stream",
     "text": [
      "dim_768_cosine_ndcg@10: 0.8333333333333334\n",
      "dim_512_cosine_ndcg@10: 0.8257733054706043\n",
      "dim_256_cosine_ndcg@10: 0.8703703703703703\n",
      "dim_128_cosine_ndcg@10: 0.8813288610261599\n",
      "dim_64_cosine_ndcg@10: 0.8829327367063541\n"
     ]
    }
   ],
   "source": [
    "from sentence_transformers import SentenceTransformer\n",
    " \n",
    "fine_tuned_model = SentenceTransformer(\n",
    "    args.output_dir, device=\"cuda\" if torch.cuda.is_available() else \"cpu\"\n",
    ")\n",
    "\n",
    "results = evaluator(fine_tuned_model)\n",
    " # print(results)\n",
    " \n",
    "for dim in matryoshka_dimensions:\n",
    "    key = f\"dim_{dim}_cosine_ndcg@10\"\n",
    "    print(f\"{key}: {results[key]}\")"
   ]
  },
  {
   "cell_type": "code",
   "execution_count": 22,
   "id": "21ddbcf0-57fa-4acf-aa40-f8e1d23c70ed",
   "metadata": {
    "execution": {
     "iopub.execute_input": "2024-12-02T14:34:00.222039Z",
     "iopub.status.busy": "2024-12-02T14:34:00.221873Z",
     "iopub.status.idle": "2024-12-02T14:36:45.746365Z",
     "shell.execute_reply": "2024-12-02T14:36:45.746110Z",
     "shell.execute_reply.started": "2024-12-02T14:34:00.222030Z"
    }
   },
   "outputs": [
    {
     "data": {
      "application/vnd.jupyter.widget-view+json": {
       "model_id": "2349f82d2afd43b299c251f347c14b03",
       "version_major": 2,
       "version_minor": 0
      },
      "text/plain": [
       "model.safetensors:   0%|          | 0.00/1.34G [00:00<?, ?B/s]"
      ]
     },
     "metadata": {},
     "output_type": "display_data"
    },
    {
     "data": {
      "text/plain": [
       "'https://huggingface.co/mp-ac/mpac-bge-large-v1.2/commit/a37710204fc620f50b7a0f12cfac198da1ec01da'"
      ]
     },
     "execution_count": 22,
     "metadata": {},
     "output_type": "execute_result"
    }
   ],
   "source": [
    "trainer.model.push_to_hub(\"mp-ac/mpac-bge-large-v1.2\")"
   ]
  },
  {
   "cell_type": "code",
   "execution_count": null,
   "id": "0b057049-2657-4ccc-b363-9bfb2bc19d88",
   "metadata": {},
   "outputs": [],
   "source": []
  }
 ],
 "metadata": {
  "kernelspec": {
   "display_name": "Python 3 (ipykernel)",
   "language": "python",
   "name": "python3"
  },
  "language_info": {
   "codemirror_mode": {
    "name": "ipython",
    "version": 3
   },
   "file_extension": ".py",
   "mimetype": "text/x-python",
   "name": "python",
   "nbconvert_exporter": "python",
   "pygments_lexer": "ipython3",
   "version": "3.12.7"
  }
 },
 "nbformat": 4,
 "nbformat_minor": 5
}
